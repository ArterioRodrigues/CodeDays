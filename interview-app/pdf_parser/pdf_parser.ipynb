{
 "cells": [
  {
   "cell_type": "code",
   "execution_count": 20,
   "metadata": {},
   "outputs": [
    {
     "name": "stderr",
     "output_type": "stream",
     "text": [
      "[nltk_data] Downloading package stopwords to\n",
      "[nltk_data]     /Users/aeshapatel/nltk_data...\n",
      "[nltk_data]   Package stopwords is already up-to-date!\n",
      "[nltk_data] Downloading package punkt to\n",
      "[nltk_data]     /Users/aeshapatel/nltk_data...\n",
      "[nltk_data]   Package punkt is already up-to-date!\n"
     ]
    },
    {
     "data": {
      "text/plain": [
       "True"
      ]
     },
     "execution_count": 20,
     "metadata": {},
     "output_type": "execute_result"
    }
   ],
   "source": [
    "from PyPDF2 import PdfReader\n",
    "from pyresparser import ResumeParser\n",
    "\n",
    "import nltk\n",
    "nltk.download('stopwords')\n",
    "nltk.download('punkt')"
   ]
  },
  {
   "cell_type": "code",
   "execution_count": 51,
   "metadata": {},
   "outputs": [],
   "source": [
    "file_name='/Users/aeshapatel/git/CodeDays/interview-app/pdf_parser/Sample_Resume.pdf'"
   ]
  },
  {
   "cell_type": "code",
   "execution_count": 52,
   "metadata": {},
   "outputs": [
    {
     "name": "stdout",
     "output_type": "stream",
     "text": [
      "2\n",
      "Xin Zhang WPI-BOX 2937, 100 Institute Road, Worcester, MA 01609 Phone (508)831-5857 Fax (508)797-3150 E-mail xinz@cs.wpi.edu http://davis.wpi.edu/dsrg/MEMBERS/XINZ _____________________________________________________________________________________________  OBJECTIVE Full-Time Research and Development in the area of XML and Database technologies.  COMPUTER SKILLS Eight years on C and C++, five years on JAVA, and SQL, and two years on OQL, XQuery, XML, and UML. Very familiar with Microsoft Visual Studio, Latex, ORACLE 8.1.6. Visual Café, JBuilder, Together ControlCenter 5.5, Rational Rose, Viasoft Rochade, JavaCC, JTB, IBM VisualAge Enterprise, and CVS.   EDUCATION 1999 – 2003  Worcester Polytechnic Institute    Worcester, MA May 2003 Ph.D. in Computer Science in Research Area: XML Query Engine  May 1999  Master of Science in Computer Science in Research Area: Data Warehousing GPA: 3.8  INDUSTRY EXPERIENCE 2000 - 2001 Technical Intern   Verizon Labs   Waltham, MA • Conducted research and development of an XML management system based on relational technology. This system can load XML data into relational database by a fixed loading scheme. The relation schema is generated from XML’s DTD automatically. The performance of XML data loading can compare to the Oracle’s native XSU interface. The system also updates the loaded data by a set of API functions. It supports insert, delete, and update of any specific element identified by an XPath. Transaction model is implemented for the XML updates. Also the incremental validation of the updates. A paper called “Clock: Synchronizing Internal Relational Storage with External XML Documents” published on RIDE-DM2001. • Used UML to design the project’s class diagram. Used Java and JDBC to implement the main system. Used IBM’s XML4J parser to parse the XML and DTD. Used dynamic SQL and JDBC to communicate with the database backend. Led group meetings. Created and maintained the group development website. Installed Oracle server on Linux box. 1999 - 2000 Technical Intern   GTE Labs   Waltham, MA • Conducted research and development of a data integration system in the context of metadata repositories. The integration is based on the DTD. First, system stores the DTD into the relational database as metadata tables. Then, based on the metadata tables and different workload, created relational schema is created. Designed metadata tables to support flexible loading. A paper called “Integrating XML Data with Relational Databases” is published in ICDCS 2000. • Collaborated with two other senior technical stuffs. Oracle’s data dictionary tables are used.  1998 – 1999 Technical Intern   GTE Labs   Waltham, MA • Developed a system based on Rochade to support software component management. It includes web server html static pages design, dynamic CGI scripts design, Rochade client and cache management, and Rochade server modules design. The component management system can catalog the upload software modules written in C/C++/JAVA/RPL, can search modules by keywords, and can download selected packages. • Rochade and Rochade Web Toolkit are used. CGI scripts are used. Rochade information model are designed. Presentations and documentations are developed for this project. Rochade programming languages (like Dbase programming language) is used. TCP/IP and client/server techniques are used. Used RationalRose to design the class diagram, use cases, and activity diagrams.  RESEARCH EXPERIENCE 2000 - 2002 Research Assistant Worcester Polytechnic Institute  Worcester, MA • Conducted research and development of a system to support multiple XML loading and extraction strategies by XQueries, algebra based XQuery processing with order awareness, and update propagation. System can take XQuery parsed into XML algebra tree, optimize it and execute it. XML updates are specified by XQuery and propagated through the system. Designed system architecture. Proposed a new XML algebra and designed XML algebra rewriting rules. Extent Kweelt’s XQuery parser to support XML updates. (http://davis.wpi.edu/dsrg/rainbow) \n",
      "['xin', 'zhang', 'institute', 'road', 'worcester', 'phone', 'fax', 'xinz', 'http', 'objective', 'research', 'development', 'area', 'xml', 'database', 'technologies', 'computer', 'skills', 'eight', 'years', 'c', 'five', 'years', 'java', 'sql', 'two', 'years', 'oql', 'xquery', 'xml', 'uml', 'familiar', 'microsoft', 'visual', 'studio', 'latex', 'oracle', 'visual', 'café', 'jbuilder', 'together', 'controlcenter', 'rational', 'rose', 'viasoft', 'rochade', 'javacc', 'jtb', 'ibm', 'visualage', 'enterprise', 'cvs', 'education', 'worcester', 'polytechnic', 'institute', 'worcester', 'may', 'computer', 'science', 'research', 'area', 'xml', 'query', 'engine', 'may', 'master', 'science', 'computer', 'science', 'research', 'area', 'data', 'warehousing', 'gpa', 'industry', 'experience', 'technical', 'intern', 'verizon', 'labs', 'waltham', 'conducted', 'research', 'development', 'xml', 'management', 'system', 'based', 'relational', 'technology', 'system', 'load', 'xml', 'data', 'relational', 'database', 'fixed', 'loading', 'scheme', 'relation', 'schema', 'generated', 'xml', 'dtd', 'automatically', 'performance', 'xml', 'data', 'loading', 'compare', 'oracle', 'native', 'xsu', 'interface', 'system', 'also', 'updates', 'loaded', 'data', 'set', 'api', 'functions', 'supports', 'insert', 'delete', 'update', 'specific', 'element', 'identified', 'xpath', 'transaction', 'model', 'implemented', 'xml', 'updates', 'also', 'incremental', 'validation', 'updates', 'paper', 'called', 'clock', 'synchronizing', 'internal', 'relational', 'storage', 'external', 'xml', 'documents', 'published', 'used', 'uml', 'design', 'project', 'class', 'diagram', 'used', 'java', 'jdbc', 'implement', 'main', 'system', 'used', 'ibm', 'parser', 'parse', 'xml', 'dtd', 'used', 'dynamic', 'sql', 'jdbc', 'communicate', 'database', 'backend', 'led', 'group', 'meetings', 'created', 'maintained', 'group', 'development', 'website', 'installed', 'oracle', 'server', 'linux', 'box', 'technical', 'intern', 'gte', 'labs', 'waltham', 'conducted', 'research', 'development', 'data', 'integration', 'system', 'context', 'metadata', 'repositories', 'integration', 'based', 'dtd', 'first', 'system', 'stores', 'dtd', 'relational', 'database', 'metadata', 'tables', 'based', 'metadata', 'tables', 'different', 'workload', 'created', 'relational', 'schema', 'created', 'designed', 'metadata', 'tables', 'support', 'flexible', 'loading', 'paper', 'called', 'integrating', 'xml', 'data', 'relational', 'databases', 'published', 'icdcs', 'collaborated', 'two', 'senior', 'technical', 'stuffs', 'oracle', 'data', 'dictionary', 'tables', 'used', 'technical', 'intern', 'gte', 'labs', 'waltham', 'developed', 'system', 'based', 'rochade', 'support', 'software', 'component', 'management', 'includes', 'web', 'server', 'html', 'static', 'pages', 'design', 'dynamic', 'cgi', 'scripts', 'design', 'rochade', 'client', 'cache', 'management', 'rochade', 'server', 'modules', 'design', 'component', 'management', 'system', 'catalog', 'upload', 'software', 'modules', 'written', 'search', 'modules', 'keywords', 'download', 'selected', 'packages', 'rochade', 'rochade', 'web', 'toolkit', 'used', 'cgi', 'scripts', 'used', 'rochade', 'information', 'model', 'designed', 'presentations', 'documentations', 'developed', 'project', 'rochade', 'programming', 'languages', 'like', 'dbase', 'programming', 'language', 'used', 'techniques', 'used', 'used', 'rationalrose', 'design', 'class', 'diagram', 'use', 'cases', 'activity', 'diagrams', 'research', 'experience', 'research', 'assistant', 'worcester', 'polytechnic', 'institute', 'worcester', 'conducted', 'research', 'development', 'system', 'support', 'multiple', 'xml', 'loading', 'extraction', 'strategies', 'xqueries', 'algebra', 'based', 'xquery', 'processing', 'order', 'awareness', 'update', 'propagation', 'system', 'take', 'xquery', 'parsed', 'xml', 'algebra', 'tree', 'optimize', 'execute', 'xml', 'updates', 'specified', 'xquery', 'propagated', 'system', 'designed', 'system', 'architecture', 'proposed', 'new', 'xml', 'algebra', 'designed', 'xml', 'algebra', 'rewriting', 'rules', 'extent', 'kweelt', 'xquery', 'parser', 'support', 'xml', 'updates', 'http']\n"
     ]
    }
   ],
   "source": [
    "from pyresparser.utils import stopwords\n",
    "from nltk.corpus.reader.tagged import word_tokenize\n",
    "# creating a pdf reader object\n",
    "reader = PdfReader(file_name)\n",
    "\n",
    "# printing number of pages in pdf file\n",
    "print(len(reader.pages))\n",
    "\n",
    "# getting a specific page from the pdf file\n",
    "page = reader.pages[0]\n",
    "\n",
    "# extracting text from page\n",
    "text = page.extract_text()\n",
    "\n",
    "print(text)\n",
    "\n",
    "# removing stopwords, lowercasing, removing punctuation, stemming, or lemmatization\n",
    "tokens = word_tokenize(text)\n",
    "stop_words = set(stopwords.words('english'))\n",
    "filtered_text = [word for word in tokens if not word.lower() in stop_words]\n",
    "clean_text = [word.lower() for word in filtered_text if word.isalpha()]\n",
    "\n",
    "print(clean_text)"
   ]
  },
  {
   "cell_type": "code",
   "execution_count": 59,
   "metadata": {},
   "outputs": [],
   "source": [
    "import en_core_web_sm\n",
    "nlp = spacy.load('en_core_web_sm')\n",
    "import spacy\n",
    "import os"
   ]
  },
  {
   "cell_type": "code",
   "execution_count": 57,
   "metadata": {},
   "outputs": [
    {
     "ename": "OSError",
     "evalue": "[E053] Could not read config file from /Users/aeshapatel/Library/Python/3.8/lib/python/site-packages/pyresparser/config.cfg",
     "output_type": "error",
     "traceback": [
      "\u001b[0;31m---------------------------------------------------------------------------\u001b[0m",
      "\u001b[0;31mOSError\u001b[0m                                   Traceback (most recent call last)",
      "Cell \u001b[0;32mIn[57], line 1\u001b[0m\n\u001b[0;32m----> 1\u001b[0m data \u001b[39m=\u001b[39m ResumeParser(file_name)\u001b[39m.\u001b[39mget_extracted_data()\n\u001b[1;32m      2\u001b[0m \u001b[39mprint\u001b[39m(data)\n\u001b[1;32m      3\u001b[0m \u001b[39m\"\"\"\u001b[39;00m\n\u001b[1;32m      4\u001b[0m \u001b[39mprint(\"Name: \" + data['name'] + \"\\n\")\u001b[39;00m\n\u001b[1;32m      5\u001b[0m \u001b[39mprint(\"Email: \" + data['email'] + \"\\n\")\u001b[39;00m\n\u001b[0;32m   (...)\u001b[0m\n\u001b[1;32m     16\u001b[0m \u001b[39mprint(\"Number of Pages: \" + str(data['no_of_pages']) + \"\\n\")\u001b[39;00m\n\u001b[1;32m     17\u001b[0m \u001b[39m\"\"\"\u001b[39;00m\n",
      "File \u001b[0;32m~/Library/Python/3.8/lib/python/site-packages/pyresparser/resume_parser.py:21\u001b[0m, in \u001b[0;36mResumeParser.__init__\u001b[0;34m(self, resume, skills_file, custom_regex)\u001b[0m\n\u001b[1;32m     14\u001b[0m \u001b[39mdef\u001b[39;00m \u001b[39m__init__\u001b[39m(\n\u001b[1;32m     15\u001b[0m     \u001b[39mself\u001b[39m,\n\u001b[1;32m     16\u001b[0m     resume,\n\u001b[1;32m     17\u001b[0m     skills_file\u001b[39m=\u001b[39m\u001b[39mNone\u001b[39;00m,\n\u001b[1;32m     18\u001b[0m     custom_regex\u001b[39m=\u001b[39m\u001b[39mNone\u001b[39;00m\n\u001b[1;32m     19\u001b[0m ):\n\u001b[1;32m     20\u001b[0m     nlp \u001b[39m=\u001b[39m spacy\u001b[39m.\u001b[39mload(\u001b[39m'\u001b[39m\u001b[39men_core_web_sm\u001b[39m\u001b[39m'\u001b[39m)\n\u001b[0;32m---> 21\u001b[0m     custom_nlp \u001b[39m=\u001b[39m spacy\u001b[39m.\u001b[39;49mload(os\u001b[39m.\u001b[39;49mpath\u001b[39m.\u001b[39;49mdirname(os\u001b[39m.\u001b[39;49mpath\u001b[39m.\u001b[39;49mabspath(\u001b[39m__file__\u001b[39;49m)))\n\u001b[1;32m     22\u001b[0m     \u001b[39mself\u001b[39m\u001b[39m.\u001b[39m__skills_file \u001b[39m=\u001b[39m skills_file\n\u001b[1;32m     23\u001b[0m     \u001b[39mself\u001b[39m\u001b[39m.\u001b[39m__custom_regex \u001b[39m=\u001b[39m custom_regex\n",
      "File \u001b[0;32m~/Library/Python/3.8/lib/python/site-packages/spacy/__init__.py:51\u001b[0m, in \u001b[0;36mload\u001b[0;34m(name, vocab, disable, enable, exclude, config)\u001b[0m\n\u001b[1;32m     27\u001b[0m \u001b[39mdef\u001b[39;00m \u001b[39mload\u001b[39m(\n\u001b[1;32m     28\u001b[0m     name: Union[\u001b[39mstr\u001b[39m, Path],\n\u001b[1;32m     29\u001b[0m     \u001b[39m*\u001b[39m,\n\u001b[0;32m   (...)\u001b[0m\n\u001b[1;32m     34\u001b[0m     config: Union[Dict[\u001b[39mstr\u001b[39m, Any], Config] \u001b[39m=\u001b[39m util\u001b[39m.\u001b[39mSimpleFrozenDict(),\n\u001b[1;32m     35\u001b[0m ) \u001b[39m-\u001b[39m\u001b[39m>\u001b[39m Language:\n\u001b[1;32m     36\u001b[0m \u001b[39m    \u001b[39m\u001b[39m\"\"\"Load a spaCy model from an installed package or a local path.\u001b[39;00m\n\u001b[1;32m     37\u001b[0m \n\u001b[1;32m     38\u001b[0m \u001b[39m    name (str): Package name or model path.\u001b[39;00m\n\u001b[0;32m   (...)\u001b[0m\n\u001b[1;32m     49\u001b[0m \u001b[39m    RETURNS (Language): The loaded nlp object.\u001b[39;00m\n\u001b[1;32m     50\u001b[0m \u001b[39m    \"\"\"\u001b[39;00m\n\u001b[0;32m---> 51\u001b[0m     \u001b[39mreturn\u001b[39;00m util\u001b[39m.\u001b[39;49mload_model(\n\u001b[1;32m     52\u001b[0m         name,\n\u001b[1;32m     53\u001b[0m         vocab\u001b[39m=\u001b[39;49mvocab,\n\u001b[1;32m     54\u001b[0m         disable\u001b[39m=\u001b[39;49mdisable,\n\u001b[1;32m     55\u001b[0m         enable\u001b[39m=\u001b[39;49menable,\n\u001b[1;32m     56\u001b[0m         exclude\u001b[39m=\u001b[39;49mexclude,\n\u001b[1;32m     57\u001b[0m         config\u001b[39m=\u001b[39;49mconfig,\n\u001b[1;32m     58\u001b[0m     )\n",
      "File \u001b[0;32m~/Library/Python/3.8/lib/python/site-packages/spacy/util.py:467\u001b[0m, in \u001b[0;36mload_model\u001b[0;34m(name, vocab, disable, enable, exclude, config)\u001b[0m\n\u001b[1;32m    465\u001b[0m         \u001b[39mreturn\u001b[39;00m load_model_from_package(name, \u001b[39m*\u001b[39m\u001b[39m*\u001b[39mkwargs)  \u001b[39m# type: ignore[arg-type]\u001b[39;00m\n\u001b[1;32m    466\u001b[0m     \u001b[39mif\u001b[39;00m Path(name)\u001b[39m.\u001b[39mexists():  \u001b[39m# path to model data directory\u001b[39;00m\n\u001b[0;32m--> 467\u001b[0m         \u001b[39mreturn\u001b[39;00m load_model_from_path(Path(name), \u001b[39m*\u001b[39;49m\u001b[39m*\u001b[39;49mkwargs)  \u001b[39m# type: ignore[arg-type]\u001b[39;00m\n\u001b[1;32m    468\u001b[0m \u001b[39melif\u001b[39;00m \u001b[39mhasattr\u001b[39m(name, \u001b[39m\"\u001b[39m\u001b[39mexists\u001b[39m\u001b[39m\"\u001b[39m):  \u001b[39m# Path or Path-like to model data\u001b[39;00m\n\u001b[1;32m    469\u001b[0m     \u001b[39mreturn\u001b[39;00m load_model_from_path(name, \u001b[39m*\u001b[39m\u001b[39m*\u001b[39mkwargs)  \u001b[39m# type: ignore[arg-type]\u001b[39;00m\n",
      "File \u001b[0;32m~/Library/Python/3.8/lib/python/site-packages/spacy/util.py:538\u001b[0m, in \u001b[0;36mload_model_from_path\u001b[0;34m(model_path, meta, vocab, disable, enable, exclude, config)\u001b[0m\n\u001b[1;32m    536\u001b[0m config_path \u001b[39m=\u001b[39m model_path \u001b[39m/\u001b[39m \u001b[39m\"\u001b[39m\u001b[39mconfig.cfg\u001b[39m\u001b[39m\"\u001b[39m\n\u001b[1;32m    537\u001b[0m overrides \u001b[39m=\u001b[39m dict_to_dot(config, for_overrides\u001b[39m=\u001b[39m\u001b[39mTrue\u001b[39;00m)\n\u001b[0;32m--> 538\u001b[0m config \u001b[39m=\u001b[39m load_config(config_path, overrides\u001b[39m=\u001b[39;49moverrides)\n\u001b[1;32m    539\u001b[0m nlp \u001b[39m=\u001b[39m load_model_from_config(\n\u001b[1;32m    540\u001b[0m     config,\n\u001b[1;32m    541\u001b[0m     vocab\u001b[39m=\u001b[39mvocab,\n\u001b[0;32m   (...)\u001b[0m\n\u001b[1;32m    545\u001b[0m     meta\u001b[39m=\u001b[39mmeta,\n\u001b[1;32m    546\u001b[0m )\n\u001b[1;32m    547\u001b[0m \u001b[39mreturn\u001b[39;00m nlp\u001b[39m.\u001b[39mfrom_disk(model_path, exclude\u001b[39m=\u001b[39mexclude, overrides\u001b[39m=\u001b[39moverrides)\n",
      "File \u001b[0;32m~/Library/Python/3.8/lib/python/site-packages/spacy/util.py:714\u001b[0m, in \u001b[0;36mload_config\u001b[0;34m(path, overrides, interpolate)\u001b[0m\n\u001b[1;32m    712\u001b[0m \u001b[39melse\u001b[39;00m:\n\u001b[1;32m    713\u001b[0m     \u001b[39mif\u001b[39;00m \u001b[39mnot\u001b[39;00m config_path \u001b[39mor\u001b[39;00m \u001b[39mnot\u001b[39;00m config_path\u001b[39m.\u001b[39mis_file():\n\u001b[0;32m--> 714\u001b[0m         \u001b[39mraise\u001b[39;00m \u001b[39mIOError\u001b[39;00m(Errors\u001b[39m.\u001b[39mE053\u001b[39m.\u001b[39mformat(path\u001b[39m=\u001b[39mconfig_path, name\u001b[39m=\u001b[39m\u001b[39m\"\u001b[39m\u001b[39mconfig file\u001b[39m\u001b[39m\"\u001b[39m))\n\u001b[1;32m    715\u001b[0m     \u001b[39mreturn\u001b[39;00m config\u001b[39m.\u001b[39mfrom_disk(\n\u001b[1;32m    716\u001b[0m         config_path, overrides\u001b[39m=\u001b[39moverrides, interpolate\u001b[39m=\u001b[39minterpolate\n\u001b[1;32m    717\u001b[0m     )\n",
      "\u001b[0;31mOSError\u001b[0m: [E053] Could not read config file from /Users/aeshapatel/Library/Python/3.8/lib/python/site-packages/pyresparser/config.cfg"
     ]
    }
   ],
   "source": [
    "data = ResumeParser(file_name).get_extracted_data()\n",
    "print(data)\n",
    "\n",
    "print(\"Name: \" + data['name'] + \"\\n\")\n",
    "print(\"Email: \" + data['email'] + \"\\n\")\n",
    "print(\"Phone Number: \" + data['mobile_number'] + \"\\n\")\n",
    "print(\"Skills: \")\n",
    "for i in data['skills']:\n",
    "  print(i,  end = \"\\n\")\n",
    "print()\n",
    "print(\"Experience: \")\n",
    "for i in data['experience']:\n",
    "  new_string = i.replace('•',\"-\")\n",
    "  print(new_string, sep = \"\\n\")\n",
    "print()\n",
    "print(\"Number of Pages: \" + str(data['no_of_pages']) + \"\\n\")\n"
   ]
  }
 ],
 "metadata": {
  "kernelspec": {
   "display_name": "Python 3",
   "language": "python",
   "name": "python3"
  },
  "language_info": {
   "codemirror_mode": {
    "name": "ipython",
    "version": 3
   },
   "file_extension": ".py",
   "mimetype": "text/x-python",
   "name": "python",
   "nbconvert_exporter": "python",
   "pygments_lexer": "ipython3",
   "version": "3.8.9"
  },
  "orig_nbformat": 4
 },
 "nbformat": 4,
 "nbformat_minor": 2
}
