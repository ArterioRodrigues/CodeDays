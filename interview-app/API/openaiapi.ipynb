{
 "cells": [
  {
   "cell_type": "code",
   "execution_count": 7,
   "metadata": {},
   "outputs": [
    {
     "name": "stdout",
     "output_type": "stream",
     "text": [
      "1. Can you tell me more about your experience as a Data Analyst Intern at Apexus Tech Inc? Specifically, how did you contribute to the team's ETF-based quantitative investment strategies?\n",
      "2. How did you leverage Python and multithreading to enhance the efficiency of data retrieval and storage for the ETF database at Apexus Tech Inc?\n",
      "3. Could you elaborate on your experience conducting research on NLP-driven sentiment analysis in the financial market? How did you develop heatmaps to visualize stocks' sentiment scores by sector for predictions of stock prices and investing strategy development?\n",
      "4. Can you explain how you built custom Grafana dashboards to monitor live stock prices and macroeconomic data at Apexus Tech Inc? How did this contribute to real-time analysis of market trends?\n",
      "5. In your role as a Business Analyst PTA at Bytedance Ltd, how did you provide ad-hoc data support to the team? Can you give an example of a self-service SQL query you created to investigate a sudden drop in commercial advertising revenue?\n",
      "6. Can you talk about your experience designing a Tableau dashboard for a new case closing data report module at Bytedance Ltd? How did this empower customers to view and analyze advertising revenue performance across multiple dimensions?\n",
      "7. In your Business Analytics Project at New York University, how did you analyze whether Shanghai Disneyland should implement a Fastpass system? Can you explain the methodologies and tools you used, such as NLP sentiment analysis, A/B testing, and regression?\n",
      "8. Can you discuss your role in the Housing Price Projection Project? How did you design and develop the data pipeline to process and analyze San Francisco housing records? What regression models did you employ to predict housing prices?\n",
      "9. Tell me about your experience analyzing Stanley Black & Decker's historical financial statements in the Investment Recommendation Project at New York University. How did you calculate and interpret essential financial ratios to highlight the company's strengths and weaknesses?\n",
      "10. Lastly, can you elaborate on your programming skills, specifically your proficiency in Python (pandas, NumPy, sklearn), SQL, and Java? How have you applied these skills in your previous roles and academic projects?\n"
     ]
    }
   ],
   "source": [
    "import openai\n",
    "\n",
    "openai.api_key = \"your-api-key\"\n",
    "\n",
    "resume=input('please paste your resume here: ')+'/n'\n",
    "systempromt = 'You are an interviewer at the HR department at a company.'\n",
    "userpromt= 'Here is the resume of the interviewee that you are supposed to interview./n' +resume+ \"Please come up with 10 interview questions that are as relevant as possible based on the resume you received.\"\n",
    "\n",
    "#print(userpromt)\n",
    "\n",
    "message=[\n",
    "    {\n",
    "      \"role\": \"system\",\n",
    "      \"content\": systempromt\n",
    "    },\n",
    "    {\n",
    "      \"role\": \"user\",\n",
    "      \"content\": userpromt\n",
    "    }\n",
    "  ]\n",
    "\n",
    "response = openai.ChatCompletion.create(\n",
    "  model=\"gpt-3.5-turbo\",\n",
    "  messages=message,\n",
    "  temperature=0.5,\n",
    "  max_tokens=1000,\n",
    "  top_p=1,\n",
    "  frequency_penalty=0,\n",
    "  presence_penalty=0\n",
    ")\n",
    "\n",
    "response_content = response.choices[0].message.content\n",
    "print(response_content)"
   ]
  },
  {
   "cell_type": "code",
   "execution_count": 4,
   "metadata": {},
   "outputs": [
    {
     "data": {
      "text/plain": [
       "\"1. Can you explain your experience with building efficient database structures for storing market data? How did you ensure reliability and speed in data processing?\\n2. Tell us about your experience with NLP-driven sentiment analysis on the financial market. How did you use this analysis to develop stock price predictions and investment strategies?\\n3. Can you provide an example of a time when you used Python multithreading to enhance the efficiency of data retrieval and storage? What were the results?\\n4. How have you leveraged Python and Plotly to retrieve and visualize real-time minute-level stock price data? How did this enable comprehensive data analysis and decision-making?\\n5. Describe your experience with creating self-service SQL queries to investigate sudden drops in commercial advertising revenue. How did you provide data support to the team and train key stakeholders?\\n6. Can you explain how you designed a Tableau dashboard to enable customers to view and analyze advertising revenue performance across multiple dimensions? What was the impact of this dashboard?\\n7. Walk us through your involvement in the Business Analytics Project analyzing whether Shanghai Disneyland should implement a Fastpass system. How did you use data analysis techniques such as NLP sentiment analysis, A/B testing, and regression to make recommendations?\\n8. Tell us about your experience in the Housing Price Projection Project. How did you design an end-to-end data pipeline to process and analyze housing records? What methods did you use to improve prediction accuracy?\\n9. Discuss your role in analyzing Stanley Black & Decker's historical financial statements. How did you calculate and interpret essential financial ratios to identify strengths and weaknesses? What recommendations did you provide for investors?\\n10. Can you provide examples of how you have utilized your programming skills, such as Python (pandas, NumPy, sklearn), SQL, and Java, in your professional and academic projects?\""
      ]
     },
     "execution_count": 4,
     "metadata": {},
     "output_type": "execute_result"
    }
   ],
   "source": [
    "response_content = response.choices[0].message.content\n",
    "response_content"
   ]
  }
 ],
 "metadata": {
  "kernelspec": {
   "display_name": "base",
   "language": "python",
   "name": "python3"
  },
  "language_info": {
   "codemirror_mode": {
    "name": "ipython",
    "version": 3
   },
   "file_extension": ".py",
   "mimetype": "text/x-python",
   "name": "python",
   "nbconvert_exporter": "python",
   "pygments_lexer": "ipython3",
   "version": "3.8.2"
  },
  "orig_nbformat": 4
 },
 "nbformat": 4,
 "nbformat_minor": 2
}
