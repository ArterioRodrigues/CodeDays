{
 "cells": [
  {
   "cell_type": "code",
   "execution_count": 28,
   "metadata": {},
   "outputs": [
    {
     "name": "stdout",
     "output_type": "stream",
     "text": [
      "1. Can you tell me about your previous work experience?\n",
      "2. What skills do you possess that make you a strong candidate for this position?\n",
      "3. Have you ever worked in a team-oriented environment? If so, can you provide an example of a successful collaboration?\n",
      "4. How do you handle challenging situations or conflicts in the workplace?\n",
      "5. Are you comfortable working under pressure and meeting tight deadlines?\n",
      "6. Can you describe your experience with project management or leading a team?\n",
      "7. What strategies do you employ to stay organized and prioritize tasks?\n",
      "8. Are you familiar with any specific software or tools relevant to this role?\n",
      "9. Can you discuss any certifications or additional training you have completed that are relevant to this position?\n",
      "10. How do you stay updated on industry trends and developments in your field?\n"
     ]
    }
   ],
   "source": [
    "import openai\n",
    "\n",
    "openai.api_key = \"\"\n",
    "\n",
    "resume=input('please paste your resume here: ')+'/n'\n",
    "systempromt = 'You are an interviewer at the HR department at a company.'\n",
    "userpromt= 'Here is the resume of the interviewee that you are supposed to interview./n' +resume+ \"Please return 10 interview questions that are as relevant as possible based on the resume you received without any additional words.\"\n",
    "\n",
    "#print(userpromt)\n",
    "\n",
    "message=[\n",
    "    {\n",
    "      \"role\": \"system\",\n",
    "      \"content\": systempromt\n",
    "    },\n",
    "    {\n",
    "      \"role\": \"user\",\n",
    "      \"content\": userpromt\n",
    "    }\n",
    "  ]\n",
    "\n",
    "response = openai.ChatCompletion.create(\n",
    "  model=\"gpt-3.5-turbo\",\n",
    "  messages=message,\n",
    "  temperature=0.5,\n",
    "  max_tokens=1000,\n",
    "  top_p=1,\n",
    "  frequency_penalty=0,\n",
    "  presence_penalty=0\n",
    ")\n",
    "\n",
    "response_content = response.choices[0].message.content\n",
    "print(response_content)"
   ]
  },
  {
   "cell_type": "code",
   "execution_count": 102,
   "metadata": {},
   "outputs": [
    {
     "data": {
      "text/plain": [
       "'1. Can you tell me about your previous work experience?\\n2. What skills do you possess that make you a strong candidate for this position?\\n3. Have you ever worked in a team-oriented environment? If so, can you provide an example of a successful collaboration?\\n4. How do you handle challenging situations or conflicts in the workplace?\\n5. Are you comfortable working under pressure and meeting tight deadlines?\\n6. Can you describe your experience with project management or leading a team?\\n7. What strategies do you employ to stay organized and prioritize tasks?\\n8. Are you familiar with any specific software or tools relevant to this role?\\n9. Can you discuss any certifications or additional training you have completed that are relevant to this position?\\n10. How do you stay updated on industry trends and developments in your field?'"
      ]
     },
     "execution_count": 102,
     "metadata": {},
     "output_type": "execute_result"
    }
   ],
   "source": [
    "trial=response_content\n",
    "trial\n"
   ]
  },
  {
   "cell_type": "code",
   "execution_count": 103,
   "metadata": {},
   "outputs": [],
   "source": [
    "trial=trial.split('\\n')\n",
    "newlist=[]\n",
    "for i in trial:\n",
    "    if i[0].isnumeric():\n",
    "        i=i[i.find(\".\")+2:]\n",
    "    i=i+\"\\n\"\n",
    "    newlist.append(i)\n",
    "\n",
    "\n",
    "\n",
    "newresponse=''\n",
    "\n",
    "for i in newlist:\n",
    "    newresponse=newresponse+i\n",
    "\n",
    "newresponse=newresponse[:-1]\n",
    "\n",
    "\n"
   ]
  },
  {
   "cell_type": "code",
   "execution_count": 104,
   "metadata": {},
   "outputs": [
    {
     "name": "stdout",
     "output_type": "stream",
     "text": [
      "Can you tell me about your previous work experience?\n",
      "What skills do you possess that make you a strong candidate for this position?\n",
      "Have you ever worked in a team-oriented environment? If so, can you provide an example of a successful collaboration?\n",
      "How do you handle challenging situations or conflicts in the workplace?\n",
      "Are you comfortable working under pressure and meeting tight deadlines?\n",
      "Can you describe your experience with project management or leading a team?\n",
      "What strategies do you employ to stay organized and prioritize tasks?\n",
      "Are you familiar with any specific software or tools relevant to this role?\n",
      "Can you discuss any certifications or additional training you have completed that are relevant to this position?\n",
      "How do you stay updated on industry trends and developments in your field?\n"
     ]
    }
   ],
   "source": [
    "print(newresponse)"
   ]
  },
  {
   "cell_type": "code",
   "execution_count": 109,
   "metadata": {},
   "outputs": [
    {
     "data": {
      "text/plain": [
       "'abcde\\nabcde'"
      ]
     },
     "execution_count": 109,
     "metadata": {},
     "output_type": "execute_result"
    }
   ],
   "source": [
    "a='abcde\\nabcde'\n",
    "a=a.strip()\n",
    "a"
   ]
  }
 ],
 "metadata": {
  "kernelspec": {
   "display_name": "Python 3.11.0 64-bit",
   "language": "python",
   "name": "python3"
  },
  "language_info": {
   "codemirror_mode": {
    "name": "ipython",
    "version": 3
   },
   "file_extension": ".py",
   "mimetype": "text/x-python",
   "name": "python",
   "nbconvert_exporter": "python",
   "pygments_lexer": "ipython3",
   "version": "3.8.2"
  },
  "orig_nbformat": 4,
  "vscode": {
   "interpreter": {
    "hash": "aee8b7b246df8f9039afb4144a1f6fd8d2ca17a180786b69acc140d282b71a49"
   }
  }
 },
 "nbformat": 4,
 "nbformat_minor": 2
}
